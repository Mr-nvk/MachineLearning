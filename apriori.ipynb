{
 "cells": [
  {
   "cell_type": "code",
   "execution_count": null,
   "metadata": {},
   "outputs": [],
   "source": [
    "import itertools\n",
    "import pandas as pd\n",
    "from apyori import apriori\n",
    "with open(\"/root/Desktop/heart.dat\", \"r\") as myfile:\n",
    "    dataset = pd.DataFrame(l.rstrip().split() for l in myfile)\n",
    "\n",
    "\n",
    "support = \n",
    "confidence = \n",
    "\n",
    "\"\"\"Compute candidate 1-itemset\"\"\"\n",
    "C1 = {}\n",
    "\"\"\"total number of transactions contained in the file\"\"\"\n",
    "transactions = 0\n",
    "D = []\n",
    "T = []\n",
    "with open(\"\", \"r\") as f:\n",
    "    for line in f:\n",
    "        T = []\n",
    "        transactions += 1\n",
    "        for word in line.split():\n",
    "            T.append(word)\n",
    "            if word not in C1.keys():\n",
    "                C1[word] = 1\n",
    "            else:\n",
    "                count = C1[word]\n",
    "                C1[word] = count + 1\n",
    "        D.append(T)\n",
    "print \"-------------------------TEST DATASET----------------------------\"\n",
    "print D\n",
    "print \"-----------------------------------------------------------------\"\n",
    "#print \"--------------------CANDIDATE 1-ITEMSET------------------------- \"\n",
    "#print C1\n",
    "#print \"-----------------------------------------------------------------\""
   ]
  },
  {
   "cell_type": "code",
   "execution_count": 2,
   "metadata": {},
   "outputs": [
    {
     "data": {
      "text/plain": [
       "array([ 0,  1,  2,  3,  4,  5,  6,  7,  8,  9, 10, 11, 12, 13])"
      ]
     },
     "execution_count": 2,
     "metadata": {},
     "output_type": "execute_result"
    }
   ],
   "source": [
    "import itertools\n",
    "import pandas as pd\n",
    "\n",
    "with open(\"/root/Desktop/heart.dat\", \"r\") as myfile:\n",
    "    dataset = pd.DataFrame(l.rstrip().split() for l in myfile)\n",
    "df = dataset\n",
    "df.columns.get_values()"
   ]
  },
  {
   "cell_type": "code",
   "execution_count": null,
   "metadata": {},
   "outputs": [],
   "source": []
  }
 ],
 "metadata": {
  "kernelspec": {
   "display_name": "Python 3",
   "language": "python",
   "name": "python3"
  },
  "language_info": {
   "codemirror_mode": {
    "name": "ipython",
    "version": 3
   },
   "file_extension": ".py",
   "mimetype": "text/x-python",
   "name": "python",
   "nbconvert_exporter": "python",
   "pygments_lexer": "ipython3",
   "version": "3.6.4"
  }
 },
 "nbformat": 4,
 "nbformat_minor": 2
}
