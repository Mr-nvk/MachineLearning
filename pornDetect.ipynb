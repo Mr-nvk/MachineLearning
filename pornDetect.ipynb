{
 "cells": [
  {
   "cell_type": "code",
   "execution_count": 7,
   "metadata": {},
   "outputs": [],
   "source": [
    "import os\n",
    "import numpy as np\n",
    "from numpy import array\n",
    "import cv2\n",
    "import skimage.feature as sf\n",
    "from sklearn.svm import SVC\n",
    "import glob\n",
    "from urllib.request import urlopen\n",
    "from io import StringIO\n",
    "total_pixels=256.0*256.0"
   ]
  },
  {
   "cell_type": "code",
   "execution_count": 8,
   "metadata": {},
   "outputs": [],
   "source": [
    "\"\"\"normalization is to make image of size 256X256 and convert the format to .jpg\"\"\"\n",
    "\n",
    "\n",
    "# def url_image(url, cv2_img_flag=1):\n",
    "# \trequest = urlopen(url)\n",
    "# \timg_array = np.asarray(bytearray(request.read()), dtype=np.uint8)\n",
    "# \treturn cv2.imdecode(img_array, cv2_img_flag)\n",
    "\t\n",
    "class image:\n",
    "    def __init__(self,src,dst,label):\n",
    "        self.src=\"/root/Desktop/temp1\"+src\n",
    "        self.dst=\"/root/Desktop/temp1\"+dst+\".jpg\"\n",
    "        self.normalized=None\n",
    "        self.label=label\n",
    "    def resize(self):\n",
    "        x,y=256,256\n",
    "        src=cv2.imread(self.src,1)\n",
    "        src=cv2.resize(src,(x,y))\n",
    "        cv2.imwrite(self.dst,src)\n",
    "        dst=cv2.imread(self.dst,1)\n",
    "        self.normalized=dst\n",
    "        return self.normalized"
   ]
  },
  {
   "cell_type": "code",
   "execution_count": 12,
   "metadata": {},
   "outputs": [],
   "source": [
    "\n",
    "class imagecheck:\n",
    "    def __init__(self,src,dst):\n",
    "        self.src=src\n",
    "        self.dst=dst+\"_n.jpg\"\n",
    "        self.normalized=None\n",
    "    def resize(self):\n",
    "        x,y=256,256\n",
    "        src=cv2.imread(self.src,1)\n",
    "        src=cv2.resize(src,(x,y))\n",
    "        cv2.imwrite(self.dst,src)\n",
    "        dst=cv2.imread(self.dst,1)\n",
    "        self.normalized=dst\n",
    "        return self.normalized"
   ]
  },
  {
   "cell_type": "code",
   "execution_count": 19,
   "metadata": {},
   "outputs": [
    {
     "ename": "IndentationError",
     "evalue": "unindent does not match any outer indentation level (<tokenize>, line 25)",
     "output_type": "error",
     "traceback": [
      "\u001b[0;36m  File \u001b[0;32m\"<tokenize>\"\u001b[0;36m, line \u001b[0;32m25\u001b[0m\n\u001b[0;31m    skin_pixel_connected=skin_pixel_connected+cv2.contourArea(contours[i])\u001b[0m\n\u001b[0m    ^\u001b[0m\n\u001b[0;31mIndentationError\u001b[0m\u001b[0;31m:\u001b[0m unindent does not match any outer indentation level\n"
     ]
    }
   ],
   "source": [
    "\"\"\"Segnebtation module is used to segment out skin pixels in YCrCb color space\"\"\"\n",
    "\n",
    "def segmentation(src):\n",
    "    img=cv2.cvtColor(src,cv.CV_BGR2YCrCb)\n",
    "    dst=cv2.inRange(img,(0,133,77),(255,173,127))\n",
    "    return dst\n",
    "\n",
    "\"\"\"Image Zoning and feature extraction module\"\"\"\n",
    "\n",
    "class features:\n",
    "\tdef __init__(self,src):\n",
    "\t\tself.zone1=src\n",
    "\t\tself.zone2=src[30:226,30:226]\n",
    "\t\tself.zone3=src[60:196,60:196]\n",
    "\tdef createglcm(self,zone):\n",
    "\t\treturn sf.greycomatrix(zone,[1],[0,np.pi/4,np.pi/2,np.pi*3/4,np.pi*25/12],normed=True)\n",
    "\tdef getCorrelation(self,glcm):\n",
    "\t\treturn sf.greycoprops(glcm,'correlation')\n",
    "\tdef getHomogeneity(self,glcm):\n",
    "\t\treturn sf.greycoprops(glcm,'homogeneity')\n",
    "\tdef getcolorfeatures(self,zone):\n",
    "\t\tcontours, hierarchy = cv2.findContours(zone,cv2.RETR_TREE,cv2.CHAIN_APPROX_SIMPLE)\n",
    "\t\tskin_pixel_connected=0 #area of all contours\n",
    "\t\tfor i in range(len(contours)):\n",
    "            skin_pixel_connected=skin_pixel_connected+cv2.contourArea(contours[i])  \n",
    "        return array([skin_pixel_connected,skin_pixel_connected/total_pixels])"
   ]
  },
  {
   "cell_type": "code",
   "execution_count": null,
   "metadata": {},
   "outputs": [],
   "source": []
  }
 ],
 "metadata": {
  "kernelspec": {
   "display_name": "Python 3",
   "language": "python",
   "name": "python3"
  },
  "language_info": {
   "codemirror_mode": {
    "name": "ipython",
    "version": 3
   },
   "file_extension": ".py",
   "mimetype": "text/x-python",
   "name": "python",
   "nbconvert_exporter": "python",
   "pygments_lexer": "ipython3",
   "version": "3.6.4"
  }
 },
 "nbformat": 4,
 "nbformat_minor": 2
}
